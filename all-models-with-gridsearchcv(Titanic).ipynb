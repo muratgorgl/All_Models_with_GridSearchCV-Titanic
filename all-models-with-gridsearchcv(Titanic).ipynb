{
 "cells": [
  {
   "cell_type": "code",
   "execution_count": 1,
   "id": "60babe92",
   "metadata": {
    "_cell_guid": "b1076dfc-b9ad-4769-8c92-a6c4dae69d19",
    "_uuid": "8f2839f25d086af736a60e9eeb907d3b93b6e0e5",
    "execution": {
     "iopub.execute_input": "2024-08-28T12:25:33.203972Z",
     "iopub.status.busy": "2024-08-28T12:25:33.202979Z",
     "iopub.status.idle": "2024-08-28T12:25:33.647975Z",
     "shell.execute_reply": "2024-08-28T12:25:33.646817Z"
    },
    "papermill": {
     "duration": 0.461927,
     "end_time": "2024-08-28T12:25:33.650885",
     "exception": false,
     "start_time": "2024-08-28T12:25:33.188958",
     "status": "completed"
    },
    "tags": []
   },
   "outputs": [
    {
     "name": "stdout",
     "output_type": "stream",
     "text": [
      "/kaggle/input/titanic/train.csv\n",
      "/kaggle/input/titanic/test.csv\n",
      "/kaggle/input/titanic/gender_submission.csv\n"
     ]
    }
   ],
   "source": [
    "# This Python 3 environment comes with many helpful analytics libraries installed\n",
    "# It is defined by the kaggle/python Docker image: https://github.com/kaggle/docker-python\n",
    "# For example, here's several helpful packages to load\n",
    "\n",
    "import numpy as np # linear algebra\n",
    "import pandas as pd # data processing, CSV file I/O (e.g. pd.read_csv)\n",
    "\n",
    "# Input data files are available in the read-only \"../input/\" directory\n",
    "# For example, running this (by clicking run or pressing Shift+Enter) will list all files under the input directory\n",
    "\n",
    "import os\n",
    "for dirname, _, filenames in os.walk('/kaggle/input'):\n",
    "    for filename in filenames:\n",
    "        print(os.path.join(dirname, filename))\n",
    "\n",
    "# You can write up to 20GB to the current directory (/kaggle/working/) that gets preserved as output when you create a version using \"Save & Run All\" \n",
    "# You can also write temporary files to /kaggle/temp/, but they won't be saved outside of the current session"
   ]
  },
  {
   "cell_type": "code",
   "execution_count": 2,
   "id": "c11429a4",
   "metadata": {
    "execution": {
     "iopub.execute_input": "2024-08-28T12:25:33.678365Z",
     "iopub.status.busy": "2024-08-28T12:25:33.677804Z",
     "iopub.status.idle": "2024-08-28T12:25:33.717681Z",
     "shell.execute_reply": "2024-08-28T12:25:33.716496Z"
    },
    "papermill": {
     "duration": 0.055928,
     "end_time": "2024-08-28T12:25:33.720989",
     "exception": false,
     "start_time": "2024-08-28T12:25:33.665061",
     "status": "completed"
    },
    "tags": []
   },
   "outputs": [],
   "source": [
    "train_data=pd.read_csv(\"/kaggle/input/titanic/train.csv\")\n",
    "test_data=pd.read_csv(\"/kaggle/input/titanic/test.csv\")\n",
    "gender_data=pd.read_csv(\"/kaggle/input/titanic/gender_submission.csv\")"
   ]
  },
  {
   "cell_type": "code",
   "execution_count": 3,
   "id": "303e6125",
   "metadata": {
    "execution": {
     "iopub.execute_input": "2024-08-28T12:25:33.747646Z",
     "iopub.status.busy": "2024-08-28T12:25:33.746582Z",
     "iopub.status.idle": "2024-08-28T12:25:35.985889Z",
     "shell.execute_reply": "2024-08-28T12:25:35.984676Z"
    },
    "papermill": {
     "duration": 2.254718,
     "end_time": "2024-08-28T12:25:35.988563",
     "exception": false,
     "start_time": "2024-08-28T12:25:33.733845",
     "status": "completed"
    },
    "tags": []
   },
   "outputs": [],
   "source": [
    "import matplotlib.pyplot as plt\n",
    "import seaborn as sns\n",
    "\n",
    "from sklearn.model_selection import train_test_split\n",
    "\n",
    "from sklearn.linear_model import LogisticRegression\n",
    "from sklearn.ensemble import RandomForestClassifier\n",
    "from sklearn.ensemble import GradientBoostingClassifier\n",
    "from sklearn.tree import DecisionTreeClassifier\n",
    "from sklearn.neighbors import KNeighborsClassifier\n",
    "from sklearn.naive_bayes import GaussianNB\n",
    "from sklearn.svm import SVC\n",
    "\n",
    "\n",
    "\n",
    "from sklearn.metrics import accuracy_score"
   ]
  },
  {
   "cell_type": "code",
   "execution_count": 4,
   "id": "0d6770b3",
   "metadata": {
    "execution": {
     "iopub.execute_input": "2024-08-28T12:25:36.013209Z",
     "iopub.status.busy": "2024-08-28T12:25:36.012619Z",
     "iopub.status.idle": "2024-08-28T12:25:36.047575Z",
     "shell.execute_reply": "2024-08-28T12:25:36.046424Z"
    },
    "papermill": {
     "duration": 0.049961,
     "end_time": "2024-08-28T12:25:36.050042",
     "exception": false,
     "start_time": "2024-08-28T12:25:36.000081",
     "status": "completed"
    },
    "tags": []
   },
   "outputs": [
    {
     "name": "stdout",
     "output_type": "stream",
     "text": [
      "train datasets\n"
     ]
    },
    {
     "data": {
      "text/html": [
       "<div>\n",
       "<style scoped>\n",
       "    .dataframe tbody tr th:only-of-type {\n",
       "        vertical-align: middle;\n",
       "    }\n",
       "\n",
       "    .dataframe tbody tr th {\n",
       "        vertical-align: top;\n",
       "    }\n",
       "\n",
       "    .dataframe thead th {\n",
       "        text-align: right;\n",
       "    }\n",
       "</style>\n",
       "<table border=\"1\" class=\"dataframe\">\n",
       "  <thead>\n",
       "    <tr style=\"text-align: right;\">\n",
       "      <th></th>\n",
       "      <th>PassengerId</th>\n",
       "      <th>Survived</th>\n",
       "      <th>Pclass</th>\n",
       "      <th>Name</th>\n",
       "      <th>Sex</th>\n",
       "      <th>Age</th>\n",
       "      <th>SibSp</th>\n",
       "      <th>Parch</th>\n",
       "      <th>Ticket</th>\n",
       "      <th>Fare</th>\n",
       "      <th>Cabin</th>\n",
       "      <th>Embarked</th>\n",
       "    </tr>\n",
       "  </thead>\n",
       "  <tbody>\n",
       "    <tr>\n",
       "      <th>0</th>\n",
       "      <td>1</td>\n",
       "      <td>0</td>\n",
       "      <td>3</td>\n",
       "      <td>Braund, Mr. Owen Harris</td>\n",
       "      <td>male</td>\n",
       "      <td>22.0</td>\n",
       "      <td>1</td>\n",
       "      <td>0</td>\n",
       "      <td>A/5 21171</td>\n",
       "      <td>7.2500</td>\n",
       "      <td>NaN</td>\n",
       "      <td>S</td>\n",
       "    </tr>\n",
       "    <tr>\n",
       "      <th>1</th>\n",
       "      <td>2</td>\n",
       "      <td>1</td>\n",
       "      <td>1</td>\n",
       "      <td>Cumings, Mrs. John Bradley (Florence Briggs Th...</td>\n",
       "      <td>female</td>\n",
       "      <td>38.0</td>\n",
       "      <td>1</td>\n",
       "      <td>0</td>\n",
       "      <td>PC 17599</td>\n",
       "      <td>71.2833</td>\n",
       "      <td>C85</td>\n",
       "      <td>C</td>\n",
       "    </tr>\n",
       "    <tr>\n",
       "      <th>2</th>\n",
       "      <td>3</td>\n",
       "      <td>1</td>\n",
       "      <td>3</td>\n",
       "      <td>Heikkinen, Miss. Laina</td>\n",
       "      <td>female</td>\n",
       "      <td>26.0</td>\n",
       "      <td>0</td>\n",
       "      <td>0</td>\n",
       "      <td>STON/O2. 3101282</td>\n",
       "      <td>7.9250</td>\n",
       "      <td>NaN</td>\n",
       "      <td>S</td>\n",
       "    </tr>\n",
       "    <tr>\n",
       "      <th>3</th>\n",
       "      <td>4</td>\n",
       "      <td>1</td>\n",
       "      <td>1</td>\n",
       "      <td>Futrelle, Mrs. Jacques Heath (Lily May Peel)</td>\n",
       "      <td>female</td>\n",
       "      <td>35.0</td>\n",
       "      <td>1</td>\n",
       "      <td>0</td>\n",
       "      <td>113803</td>\n",
       "      <td>53.1000</td>\n",
       "      <td>C123</td>\n",
       "      <td>S</td>\n",
       "    </tr>\n",
       "    <tr>\n",
       "      <th>4</th>\n",
       "      <td>5</td>\n",
       "      <td>0</td>\n",
       "      <td>3</td>\n",
       "      <td>Allen, Mr. William Henry</td>\n",
       "      <td>male</td>\n",
       "      <td>35.0</td>\n",
       "      <td>0</td>\n",
       "      <td>0</td>\n",
       "      <td>373450</td>\n",
       "      <td>8.0500</td>\n",
       "      <td>NaN</td>\n",
       "      <td>S</td>\n",
       "    </tr>\n",
       "    <tr>\n",
       "      <th>5</th>\n",
       "      <td>6</td>\n",
       "      <td>0</td>\n",
       "      <td>3</td>\n",
       "      <td>Moran, Mr. James</td>\n",
       "      <td>male</td>\n",
       "      <td>NaN</td>\n",
       "      <td>0</td>\n",
       "      <td>0</td>\n",
       "      <td>330877</td>\n",
       "      <td>8.4583</td>\n",
       "      <td>NaN</td>\n",
       "      <td>Q</td>\n",
       "    </tr>\n",
       "    <tr>\n",
       "      <th>6</th>\n",
       "      <td>7</td>\n",
       "      <td>0</td>\n",
       "      <td>1</td>\n",
       "      <td>McCarthy, Mr. Timothy J</td>\n",
       "      <td>male</td>\n",
       "      <td>54.0</td>\n",
       "      <td>0</td>\n",
       "      <td>0</td>\n",
       "      <td>17463</td>\n",
       "      <td>51.8625</td>\n",
       "      <td>E46</td>\n",
       "      <td>S</td>\n",
       "    </tr>\n",
       "    <tr>\n",
       "      <th>7</th>\n",
       "      <td>8</td>\n",
       "      <td>0</td>\n",
       "      <td>3</td>\n",
       "      <td>Palsson, Master. Gosta Leonard</td>\n",
       "      <td>male</td>\n",
       "      <td>2.0</td>\n",
       "      <td>3</td>\n",
       "      <td>1</td>\n",
       "      <td>349909</td>\n",
       "      <td>21.0750</td>\n",
       "      <td>NaN</td>\n",
       "      <td>S</td>\n",
       "    </tr>\n",
       "    <tr>\n",
       "      <th>8</th>\n",
       "      <td>9</td>\n",
       "      <td>1</td>\n",
       "      <td>3</td>\n",
       "      <td>Johnson, Mrs. Oscar W (Elisabeth Vilhelmina Berg)</td>\n",
       "      <td>female</td>\n",
       "      <td>27.0</td>\n",
       "      <td>0</td>\n",
       "      <td>2</td>\n",
       "      <td>347742</td>\n",
       "      <td>11.1333</td>\n",
       "      <td>NaN</td>\n",
       "      <td>S</td>\n",
       "    </tr>\n",
       "    <tr>\n",
       "      <th>9</th>\n",
       "      <td>10</td>\n",
       "      <td>1</td>\n",
       "      <td>2</td>\n",
       "      <td>Nasser, Mrs. Nicholas (Adele Achem)</td>\n",
       "      <td>female</td>\n",
       "      <td>14.0</td>\n",
       "      <td>1</td>\n",
       "      <td>0</td>\n",
       "      <td>237736</td>\n",
       "      <td>30.0708</td>\n",
       "      <td>NaN</td>\n",
       "      <td>C</td>\n",
       "    </tr>\n",
       "  </tbody>\n",
       "</table>\n",
       "</div>"
      ],
      "text/plain": [
       "   PassengerId  Survived  Pclass  \\\n",
       "0            1         0       3   \n",
       "1            2         1       1   \n",
       "2            3         1       3   \n",
       "3            4         1       1   \n",
       "4            5         0       3   \n",
       "5            6         0       3   \n",
       "6            7         0       1   \n",
       "7            8         0       3   \n",
       "8            9         1       3   \n",
       "9           10         1       2   \n",
       "\n",
       "                                                Name     Sex   Age  SibSp  \\\n",
       "0                            Braund, Mr. Owen Harris    male  22.0      1   \n",
       "1  Cumings, Mrs. John Bradley (Florence Briggs Th...  female  38.0      1   \n",
       "2                             Heikkinen, Miss. Laina  female  26.0      0   \n",
       "3       Futrelle, Mrs. Jacques Heath (Lily May Peel)  female  35.0      1   \n",
       "4                           Allen, Mr. William Henry    male  35.0      0   \n",
       "5                                   Moran, Mr. James    male   NaN      0   \n",
       "6                            McCarthy, Mr. Timothy J    male  54.0      0   \n",
       "7                     Palsson, Master. Gosta Leonard    male   2.0      3   \n",
       "8  Johnson, Mrs. Oscar W (Elisabeth Vilhelmina Berg)  female  27.0      0   \n",
       "9                Nasser, Mrs. Nicholas (Adele Achem)  female  14.0      1   \n",
       "\n",
       "   Parch            Ticket     Fare Cabin Embarked  \n",
       "0      0         A/5 21171   7.2500   NaN        S  \n",
       "1      0          PC 17599  71.2833   C85        C  \n",
       "2      0  STON/O2. 3101282   7.9250   NaN        S  \n",
       "3      0            113803  53.1000  C123        S  \n",
       "4      0            373450   8.0500   NaN        S  \n",
       "5      0            330877   8.4583   NaN        Q  \n",
       "6      0             17463  51.8625   E46        S  \n",
       "7      1            349909  21.0750   NaN        S  \n",
       "8      2            347742  11.1333   NaN        S  \n",
       "9      0            237736  30.0708   NaN        C  "
      ]
     },
     "execution_count": 4,
     "metadata": {},
     "output_type": "execute_result"
    }
   ],
   "source": [
    "print(\"train datasets\")\n",
    "train_data.head(10)\n"
   ]
  },
  {
   "cell_type": "code",
   "execution_count": 5,
   "id": "aec3e6e6",
   "metadata": {
    "execution": {
     "iopub.execute_input": "2024-08-28T12:25:36.075037Z",
     "iopub.status.busy": "2024-08-28T12:25:36.074607Z",
     "iopub.status.idle": "2024-08-28T12:25:36.095004Z",
     "shell.execute_reply": "2024-08-28T12:25:36.093938Z"
    },
    "papermill": {
     "duration": 0.035885,
     "end_time": "2024-08-28T12:25:36.097604",
     "exception": false,
     "start_time": "2024-08-28T12:25:36.061719",
     "status": "completed"
    },
    "tags": []
   },
   "outputs": [
    {
     "name": "stdout",
     "output_type": "stream",
     "text": [
      "test datasets\n"
     ]
    },
    {
     "data": {
      "text/html": [
       "<div>\n",
       "<style scoped>\n",
       "    .dataframe tbody tr th:only-of-type {\n",
       "        vertical-align: middle;\n",
       "    }\n",
       "\n",
       "    .dataframe tbody tr th {\n",
       "        vertical-align: top;\n",
       "    }\n",
       "\n",
       "    .dataframe thead th {\n",
       "        text-align: right;\n",
       "    }\n",
       "</style>\n",
       "<table border=\"1\" class=\"dataframe\">\n",
       "  <thead>\n",
       "    <tr style=\"text-align: right;\">\n",
       "      <th></th>\n",
       "      <th>PassengerId</th>\n",
       "      <th>Pclass</th>\n",
       "      <th>Name</th>\n",
       "      <th>Sex</th>\n",
       "      <th>Age</th>\n",
       "      <th>SibSp</th>\n",
       "      <th>Parch</th>\n",
       "      <th>Ticket</th>\n",
       "      <th>Fare</th>\n",
       "      <th>Cabin</th>\n",
       "      <th>Embarked</th>\n",
       "    </tr>\n",
       "  </thead>\n",
       "  <tbody>\n",
       "    <tr>\n",
       "      <th>0</th>\n",
       "      <td>892</td>\n",
       "      <td>3</td>\n",
       "      <td>Kelly, Mr. James</td>\n",
       "      <td>male</td>\n",
       "      <td>34.5</td>\n",
       "      <td>0</td>\n",
       "      <td>0</td>\n",
       "      <td>330911</td>\n",
       "      <td>7.8292</td>\n",
       "      <td>NaN</td>\n",
       "      <td>Q</td>\n",
       "    </tr>\n",
       "    <tr>\n",
       "      <th>1</th>\n",
       "      <td>893</td>\n",
       "      <td>3</td>\n",
       "      <td>Wilkes, Mrs. James (Ellen Needs)</td>\n",
       "      <td>female</td>\n",
       "      <td>47.0</td>\n",
       "      <td>1</td>\n",
       "      <td>0</td>\n",
       "      <td>363272</td>\n",
       "      <td>7.0000</td>\n",
       "      <td>NaN</td>\n",
       "      <td>S</td>\n",
       "    </tr>\n",
       "    <tr>\n",
       "      <th>2</th>\n",
       "      <td>894</td>\n",
       "      <td>2</td>\n",
       "      <td>Myles, Mr. Thomas Francis</td>\n",
       "      <td>male</td>\n",
       "      <td>62.0</td>\n",
       "      <td>0</td>\n",
       "      <td>0</td>\n",
       "      <td>240276</td>\n",
       "      <td>9.6875</td>\n",
       "      <td>NaN</td>\n",
       "      <td>Q</td>\n",
       "    </tr>\n",
       "    <tr>\n",
       "      <th>3</th>\n",
       "      <td>895</td>\n",
       "      <td>3</td>\n",
       "      <td>Wirz, Mr. Albert</td>\n",
       "      <td>male</td>\n",
       "      <td>27.0</td>\n",
       "      <td>0</td>\n",
       "      <td>0</td>\n",
       "      <td>315154</td>\n",
       "      <td>8.6625</td>\n",
       "      <td>NaN</td>\n",
       "      <td>S</td>\n",
       "    </tr>\n",
       "    <tr>\n",
       "      <th>4</th>\n",
       "      <td>896</td>\n",
       "      <td>3</td>\n",
       "      <td>Hirvonen, Mrs. Alexander (Helga E Lindqvist)</td>\n",
       "      <td>female</td>\n",
       "      <td>22.0</td>\n",
       "      <td>1</td>\n",
       "      <td>1</td>\n",
       "      <td>3101298</td>\n",
       "      <td>12.2875</td>\n",
       "      <td>NaN</td>\n",
       "      <td>S</td>\n",
       "    </tr>\n",
       "    <tr>\n",
       "      <th>5</th>\n",
       "      <td>897</td>\n",
       "      <td>3</td>\n",
       "      <td>Svensson, Mr. Johan Cervin</td>\n",
       "      <td>male</td>\n",
       "      <td>14.0</td>\n",
       "      <td>0</td>\n",
       "      <td>0</td>\n",
       "      <td>7538</td>\n",
       "      <td>9.2250</td>\n",
       "      <td>NaN</td>\n",
       "      <td>S</td>\n",
       "    </tr>\n",
       "    <tr>\n",
       "      <th>6</th>\n",
       "      <td>898</td>\n",
       "      <td>3</td>\n",
       "      <td>Connolly, Miss. Kate</td>\n",
       "      <td>female</td>\n",
       "      <td>30.0</td>\n",
       "      <td>0</td>\n",
       "      <td>0</td>\n",
       "      <td>330972</td>\n",
       "      <td>7.6292</td>\n",
       "      <td>NaN</td>\n",
       "      <td>Q</td>\n",
       "    </tr>\n",
       "    <tr>\n",
       "      <th>7</th>\n",
       "      <td>899</td>\n",
       "      <td>2</td>\n",
       "      <td>Caldwell, Mr. Albert Francis</td>\n",
       "      <td>male</td>\n",
       "      <td>26.0</td>\n",
       "      <td>1</td>\n",
       "      <td>1</td>\n",
       "      <td>248738</td>\n",
       "      <td>29.0000</td>\n",
       "      <td>NaN</td>\n",
       "      <td>S</td>\n",
       "    </tr>\n",
       "    <tr>\n",
       "      <th>8</th>\n",
       "      <td>900</td>\n",
       "      <td>3</td>\n",
       "      <td>Abrahim, Mrs. Joseph (Sophie Halaut Easu)</td>\n",
       "      <td>female</td>\n",
       "      <td>18.0</td>\n",
       "      <td>0</td>\n",
       "      <td>0</td>\n",
       "      <td>2657</td>\n",
       "      <td>7.2292</td>\n",
       "      <td>NaN</td>\n",
       "      <td>C</td>\n",
       "    </tr>\n",
       "    <tr>\n",
       "      <th>9</th>\n",
       "      <td>901</td>\n",
       "      <td>3</td>\n",
       "      <td>Davies, Mr. John Samuel</td>\n",
       "      <td>male</td>\n",
       "      <td>21.0</td>\n",
       "      <td>2</td>\n",
       "      <td>0</td>\n",
       "      <td>A/4 48871</td>\n",
       "      <td>24.1500</td>\n",
       "      <td>NaN</td>\n",
       "      <td>S</td>\n",
       "    </tr>\n",
       "  </tbody>\n",
       "</table>\n",
       "</div>"
      ],
      "text/plain": [
       "   PassengerId  Pclass                                          Name     Sex  \\\n",
       "0          892       3                              Kelly, Mr. James    male   \n",
       "1          893       3              Wilkes, Mrs. James (Ellen Needs)  female   \n",
       "2          894       2                     Myles, Mr. Thomas Francis    male   \n",
       "3          895       3                              Wirz, Mr. Albert    male   \n",
       "4          896       3  Hirvonen, Mrs. Alexander (Helga E Lindqvist)  female   \n",
       "5          897       3                    Svensson, Mr. Johan Cervin    male   \n",
       "6          898       3                          Connolly, Miss. Kate  female   \n",
       "7          899       2                  Caldwell, Mr. Albert Francis    male   \n",
       "8          900       3     Abrahim, Mrs. Joseph (Sophie Halaut Easu)  female   \n",
       "9          901       3                       Davies, Mr. John Samuel    male   \n",
       "\n",
       "    Age  SibSp  Parch     Ticket     Fare Cabin Embarked  \n",
       "0  34.5      0      0     330911   7.8292   NaN        Q  \n",
       "1  47.0      1      0     363272   7.0000   NaN        S  \n",
       "2  62.0      0      0     240276   9.6875   NaN        Q  \n",
       "3  27.0      0      0     315154   8.6625   NaN        S  \n",
       "4  22.0      1      1    3101298  12.2875   NaN        S  \n",
       "5  14.0      0      0       7538   9.2250   NaN        S  \n",
       "6  30.0      0      0     330972   7.6292   NaN        Q  \n",
       "7  26.0      1      1     248738  29.0000   NaN        S  \n",
       "8  18.0      0      0       2657   7.2292   NaN        C  \n",
       "9  21.0      2      0  A/4 48871  24.1500   NaN        S  "
      ]
     },
     "execution_count": 5,
     "metadata": {},
     "output_type": "execute_result"
    }
   ],
   "source": [
    "print(\"test datasets\")\n",
    "test_data.head(10)"
   ]
  },
  {
   "cell_type": "code",
   "execution_count": 6,
   "id": "d001d758",
   "metadata": {
    "execution": {
     "iopub.execute_input": "2024-08-28T12:25:36.124017Z",
     "iopub.status.busy": "2024-08-28T12:25:36.123464Z",
     "iopub.status.idle": "2024-08-28T12:25:36.133441Z",
     "shell.execute_reply": "2024-08-28T12:25:36.132100Z"
    },
    "papermill": {
     "duration": 0.025871,
     "end_time": "2024-08-28T12:25:36.135791",
     "exception": false,
     "start_time": "2024-08-28T12:25:36.109920",
     "status": "completed"
    },
    "tags": []
   },
   "outputs": [
    {
     "name": "stdout",
     "output_type": "stream",
     "text": [
      "PassengerId      0\n",
      "Survived         0\n",
      "Pclass           0\n",
      "Name             0\n",
      "Sex              0\n",
      "Age            177\n",
      "SibSp            0\n",
      "Parch            0\n",
      "Ticket           0\n",
      "Fare             0\n",
      "Cabin          687\n",
      "Embarked         2\n",
      "dtype: int64\n"
     ]
    }
   ],
   "source": [
    "missing_values = train_data.isnull().sum()\n",
    "print(missing_values)"
   ]
  },
  {
   "cell_type": "code",
   "execution_count": 7,
   "id": "92c9cd7a",
   "metadata": {
    "execution": {
     "iopub.execute_input": "2024-08-28T12:25:36.162759Z",
     "iopub.status.busy": "2024-08-28T12:25:36.161759Z",
     "iopub.status.idle": "2024-08-28T12:25:36.168101Z",
     "shell.execute_reply": "2024-08-28T12:25:36.167014Z"
    },
    "papermill": {
     "duration": 0.022193,
     "end_time": "2024-08-28T12:25:36.170473",
     "exception": false,
     "start_time": "2024-08-28T12:25:36.148280",
     "status": "completed"
    },
    "tags": []
   },
   "outputs": [],
   "source": [
    "def clean(d):\n",
    "    d.drop(['Cabin','Name','Ticket','Embarked','Fare'],axis=1,inplace=True)\n",
    "    d.Age= train_data.Age.fillna(train_data.Age.mean())\n",
    "    d.dropna()\n",
    "    return d \n",
    "\n",
    "\n"
   ]
  },
  {
   "cell_type": "code",
   "execution_count": 8,
   "id": "06f0ae65",
   "metadata": {
    "execution": {
     "iopub.execute_input": "2024-08-28T12:25:36.197261Z",
     "iopub.status.busy": "2024-08-28T12:25:36.196799Z",
     "iopub.status.idle": "2024-08-28T12:25:36.220659Z",
     "shell.execute_reply": "2024-08-28T12:25:36.219510Z"
    },
    "papermill": {
     "duration": 0.040121,
     "end_time": "2024-08-28T12:25:36.223215",
     "exception": false,
     "start_time": "2024-08-28T12:25:36.183094",
     "status": "completed"
    },
    "tags": []
   },
   "outputs": [
    {
     "data": {
      "text/html": [
       "<div>\n",
       "<style scoped>\n",
       "    .dataframe tbody tr th:only-of-type {\n",
       "        vertical-align: middle;\n",
       "    }\n",
       "\n",
       "    .dataframe tbody tr th {\n",
       "        vertical-align: top;\n",
       "    }\n",
       "\n",
       "    .dataframe thead th {\n",
       "        text-align: right;\n",
       "    }\n",
       "</style>\n",
       "<table border=\"1\" class=\"dataframe\">\n",
       "  <thead>\n",
       "    <tr style=\"text-align: right;\">\n",
       "      <th></th>\n",
       "      <th>PassengerId</th>\n",
       "      <th>Survived</th>\n",
       "      <th>Pclass</th>\n",
       "      <th>Sex</th>\n",
       "      <th>Age</th>\n",
       "      <th>SibSp</th>\n",
       "      <th>Parch</th>\n",
       "    </tr>\n",
       "  </thead>\n",
       "  <tbody>\n",
       "    <tr>\n",
       "      <th>0</th>\n",
       "      <td>1</td>\n",
       "      <td>0</td>\n",
       "      <td>3</td>\n",
       "      <td>male</td>\n",
       "      <td>22.000000</td>\n",
       "      <td>1</td>\n",
       "      <td>0</td>\n",
       "    </tr>\n",
       "    <tr>\n",
       "      <th>1</th>\n",
       "      <td>2</td>\n",
       "      <td>1</td>\n",
       "      <td>1</td>\n",
       "      <td>female</td>\n",
       "      <td>38.000000</td>\n",
       "      <td>1</td>\n",
       "      <td>0</td>\n",
       "    </tr>\n",
       "    <tr>\n",
       "      <th>2</th>\n",
       "      <td>3</td>\n",
       "      <td>1</td>\n",
       "      <td>3</td>\n",
       "      <td>female</td>\n",
       "      <td>26.000000</td>\n",
       "      <td>0</td>\n",
       "      <td>0</td>\n",
       "    </tr>\n",
       "    <tr>\n",
       "      <th>3</th>\n",
       "      <td>4</td>\n",
       "      <td>1</td>\n",
       "      <td>1</td>\n",
       "      <td>female</td>\n",
       "      <td>35.000000</td>\n",
       "      <td>1</td>\n",
       "      <td>0</td>\n",
       "    </tr>\n",
       "    <tr>\n",
       "      <th>4</th>\n",
       "      <td>5</td>\n",
       "      <td>0</td>\n",
       "      <td>3</td>\n",
       "      <td>male</td>\n",
       "      <td>35.000000</td>\n",
       "      <td>0</td>\n",
       "      <td>0</td>\n",
       "    </tr>\n",
       "    <tr>\n",
       "      <th>...</th>\n",
       "      <td>...</td>\n",
       "      <td>...</td>\n",
       "      <td>...</td>\n",
       "      <td>...</td>\n",
       "      <td>...</td>\n",
       "      <td>...</td>\n",
       "      <td>...</td>\n",
       "    </tr>\n",
       "    <tr>\n",
       "      <th>886</th>\n",
       "      <td>887</td>\n",
       "      <td>0</td>\n",
       "      <td>2</td>\n",
       "      <td>male</td>\n",
       "      <td>27.000000</td>\n",
       "      <td>0</td>\n",
       "      <td>0</td>\n",
       "    </tr>\n",
       "    <tr>\n",
       "      <th>887</th>\n",
       "      <td>888</td>\n",
       "      <td>1</td>\n",
       "      <td>1</td>\n",
       "      <td>female</td>\n",
       "      <td>19.000000</td>\n",
       "      <td>0</td>\n",
       "      <td>0</td>\n",
       "    </tr>\n",
       "    <tr>\n",
       "      <th>888</th>\n",
       "      <td>889</td>\n",
       "      <td>0</td>\n",
       "      <td>3</td>\n",
       "      <td>female</td>\n",
       "      <td>29.699118</td>\n",
       "      <td>1</td>\n",
       "      <td>2</td>\n",
       "    </tr>\n",
       "    <tr>\n",
       "      <th>889</th>\n",
       "      <td>890</td>\n",
       "      <td>1</td>\n",
       "      <td>1</td>\n",
       "      <td>male</td>\n",
       "      <td>26.000000</td>\n",
       "      <td>0</td>\n",
       "      <td>0</td>\n",
       "    </tr>\n",
       "    <tr>\n",
       "      <th>890</th>\n",
       "      <td>891</td>\n",
       "      <td>0</td>\n",
       "      <td>3</td>\n",
       "      <td>male</td>\n",
       "      <td>32.000000</td>\n",
       "      <td>0</td>\n",
       "      <td>0</td>\n",
       "    </tr>\n",
       "  </tbody>\n",
       "</table>\n",
       "<p>891 rows × 7 columns</p>\n",
       "</div>"
      ],
      "text/plain": [
       "     PassengerId  Survived  Pclass     Sex        Age  SibSp  Parch\n",
       "0              1         0       3    male  22.000000      1      0\n",
       "1              2         1       1  female  38.000000      1      0\n",
       "2              3         1       3  female  26.000000      0      0\n",
       "3              4         1       1  female  35.000000      1      0\n",
       "4              5         0       3    male  35.000000      0      0\n",
       "..           ...       ...     ...     ...        ...    ...    ...\n",
       "886          887         0       2    male  27.000000      0      0\n",
       "887          888         1       1  female  19.000000      0      0\n",
       "888          889         0       3  female  29.699118      1      2\n",
       "889          890         1       1    male  26.000000      0      0\n",
       "890          891         0       3    male  32.000000      0      0\n",
       "\n",
       "[891 rows x 7 columns]"
      ]
     },
     "execution_count": 8,
     "metadata": {},
     "output_type": "execute_result"
    }
   ],
   "source": [
    "clean(train_data)"
   ]
  },
  {
   "cell_type": "code",
   "execution_count": 9,
   "id": "6eb0b239",
   "metadata": {
    "execution": {
     "iopub.execute_input": "2024-08-28T12:25:36.250519Z",
     "iopub.status.busy": "2024-08-28T12:25:36.249583Z",
     "iopub.status.idle": "2024-08-28T12:25:36.265948Z",
     "shell.execute_reply": "2024-08-28T12:25:36.264802Z"
    },
    "papermill": {
     "duration": 0.032601,
     "end_time": "2024-08-28T12:25:36.268376",
     "exception": false,
     "start_time": "2024-08-28T12:25:36.235775",
     "status": "completed"
    },
    "tags": []
   },
   "outputs": [
    {
     "data": {
      "text/html": [
       "<div>\n",
       "<style scoped>\n",
       "    .dataframe tbody tr th:only-of-type {\n",
       "        vertical-align: middle;\n",
       "    }\n",
       "\n",
       "    .dataframe tbody tr th {\n",
       "        vertical-align: top;\n",
       "    }\n",
       "\n",
       "    .dataframe thead th {\n",
       "        text-align: right;\n",
       "    }\n",
       "</style>\n",
       "<table border=\"1\" class=\"dataframe\">\n",
       "  <thead>\n",
       "    <tr style=\"text-align: right;\">\n",
       "      <th></th>\n",
       "      <th>PassengerId</th>\n",
       "      <th>Pclass</th>\n",
       "      <th>Sex</th>\n",
       "      <th>Age</th>\n",
       "      <th>SibSp</th>\n",
       "      <th>Parch</th>\n",
       "    </tr>\n",
       "  </thead>\n",
       "  <tbody>\n",
       "    <tr>\n",
       "      <th>0</th>\n",
       "      <td>892</td>\n",
       "      <td>3</td>\n",
       "      <td>male</td>\n",
       "      <td>22.000000</td>\n",
       "      <td>0</td>\n",
       "      <td>0</td>\n",
       "    </tr>\n",
       "    <tr>\n",
       "      <th>1</th>\n",
       "      <td>893</td>\n",
       "      <td>3</td>\n",
       "      <td>female</td>\n",
       "      <td>38.000000</td>\n",
       "      <td>1</td>\n",
       "      <td>0</td>\n",
       "    </tr>\n",
       "    <tr>\n",
       "      <th>2</th>\n",
       "      <td>894</td>\n",
       "      <td>2</td>\n",
       "      <td>male</td>\n",
       "      <td>26.000000</td>\n",
       "      <td>0</td>\n",
       "      <td>0</td>\n",
       "    </tr>\n",
       "    <tr>\n",
       "      <th>3</th>\n",
       "      <td>895</td>\n",
       "      <td>3</td>\n",
       "      <td>male</td>\n",
       "      <td>35.000000</td>\n",
       "      <td>0</td>\n",
       "      <td>0</td>\n",
       "    </tr>\n",
       "    <tr>\n",
       "      <th>4</th>\n",
       "      <td>896</td>\n",
       "      <td>3</td>\n",
       "      <td>female</td>\n",
       "      <td>35.000000</td>\n",
       "      <td>1</td>\n",
       "      <td>1</td>\n",
       "    </tr>\n",
       "    <tr>\n",
       "      <th>...</th>\n",
       "      <td>...</td>\n",
       "      <td>...</td>\n",
       "      <td>...</td>\n",
       "      <td>...</td>\n",
       "      <td>...</td>\n",
       "      <td>...</td>\n",
       "    </tr>\n",
       "    <tr>\n",
       "      <th>413</th>\n",
       "      <td>1305</td>\n",
       "      <td>3</td>\n",
       "      <td>male</td>\n",
       "      <td>29.699118</td>\n",
       "      <td>0</td>\n",
       "      <td>0</td>\n",
       "    </tr>\n",
       "    <tr>\n",
       "      <th>414</th>\n",
       "      <td>1306</td>\n",
       "      <td>1</td>\n",
       "      <td>female</td>\n",
       "      <td>44.000000</td>\n",
       "      <td>0</td>\n",
       "      <td>0</td>\n",
       "    </tr>\n",
       "    <tr>\n",
       "      <th>415</th>\n",
       "      <td>1307</td>\n",
       "      <td>3</td>\n",
       "      <td>male</td>\n",
       "      <td>29.699118</td>\n",
       "      <td>0</td>\n",
       "      <td>0</td>\n",
       "    </tr>\n",
       "    <tr>\n",
       "      <th>416</th>\n",
       "      <td>1308</td>\n",
       "      <td>3</td>\n",
       "      <td>male</td>\n",
       "      <td>34.000000</td>\n",
       "      <td>0</td>\n",
       "      <td>0</td>\n",
       "    </tr>\n",
       "    <tr>\n",
       "      <th>417</th>\n",
       "      <td>1309</td>\n",
       "      <td>3</td>\n",
       "      <td>male</td>\n",
       "      <td>18.000000</td>\n",
       "      <td>1</td>\n",
       "      <td>1</td>\n",
       "    </tr>\n",
       "  </tbody>\n",
       "</table>\n",
       "<p>418 rows × 6 columns</p>\n",
       "</div>"
      ],
      "text/plain": [
       "     PassengerId  Pclass     Sex        Age  SibSp  Parch\n",
       "0            892       3    male  22.000000      0      0\n",
       "1            893       3  female  38.000000      1      0\n",
       "2            894       2    male  26.000000      0      0\n",
       "3            895       3    male  35.000000      0      0\n",
       "4            896       3  female  35.000000      1      1\n",
       "..           ...     ...     ...        ...    ...    ...\n",
       "413         1305       3    male  29.699118      0      0\n",
       "414         1306       1  female  44.000000      0      0\n",
       "415         1307       3    male  29.699118      0      0\n",
       "416         1308       3    male  34.000000      0      0\n",
       "417         1309       3    male  18.000000      1      1\n",
       "\n",
       "[418 rows x 6 columns]"
      ]
     },
     "execution_count": 9,
     "metadata": {},
     "output_type": "execute_result"
    }
   ],
   "source": [
    "clean(test_data)"
   ]
  },
  {
   "cell_type": "code",
   "execution_count": 10,
   "id": "b23f39d6",
   "metadata": {
    "execution": {
     "iopub.execute_input": "2024-08-28T12:25:36.296294Z",
     "iopub.status.busy": "2024-08-28T12:25:36.295556Z",
     "iopub.status.idle": "2024-08-28T12:25:36.325040Z",
     "shell.execute_reply": "2024-08-28T12:25:36.323894Z"
    },
    "papermill": {
     "duration": 0.046347,
     "end_time": "2024-08-28T12:25:36.327740",
     "exception": false,
     "start_time": "2024-08-28T12:25:36.281393",
     "status": "completed"
    },
    "tags": []
   },
   "outputs": [
    {
     "data": {
      "text/html": [
       "<div>\n",
       "<style scoped>\n",
       "    .dataframe tbody tr th:only-of-type {\n",
       "        vertical-align: middle;\n",
       "    }\n",
       "\n",
       "    .dataframe tbody tr th {\n",
       "        vertical-align: top;\n",
       "    }\n",
       "\n",
       "    .dataframe thead th {\n",
       "        text-align: right;\n",
       "    }\n",
       "</style>\n",
       "<table border=\"1\" class=\"dataframe\">\n",
       "  <thead>\n",
       "    <tr style=\"text-align: right;\">\n",
       "      <th></th>\n",
       "      <th>PassengerId</th>\n",
       "      <th>Survived</th>\n",
       "      <th>Pclass</th>\n",
       "      <th>Age</th>\n",
       "      <th>SibSp</th>\n",
       "      <th>Parch</th>\n",
       "    </tr>\n",
       "  </thead>\n",
       "  <tbody>\n",
       "    <tr>\n",
       "      <th>count</th>\n",
       "      <td>891.000000</td>\n",
       "      <td>891.000000</td>\n",
       "      <td>891.000000</td>\n",
       "      <td>891.000000</td>\n",
       "      <td>891.000000</td>\n",
       "      <td>891.000000</td>\n",
       "    </tr>\n",
       "    <tr>\n",
       "      <th>mean</th>\n",
       "      <td>446.000000</td>\n",
       "      <td>0.383838</td>\n",
       "      <td>2.308642</td>\n",
       "      <td>29.699118</td>\n",
       "      <td>0.523008</td>\n",
       "      <td>0.381594</td>\n",
       "    </tr>\n",
       "    <tr>\n",
       "      <th>std</th>\n",
       "      <td>257.353842</td>\n",
       "      <td>0.486592</td>\n",
       "      <td>0.836071</td>\n",
       "      <td>13.002015</td>\n",
       "      <td>1.102743</td>\n",
       "      <td>0.806057</td>\n",
       "    </tr>\n",
       "    <tr>\n",
       "      <th>min</th>\n",
       "      <td>1.000000</td>\n",
       "      <td>0.000000</td>\n",
       "      <td>1.000000</td>\n",
       "      <td>0.420000</td>\n",
       "      <td>0.000000</td>\n",
       "      <td>0.000000</td>\n",
       "    </tr>\n",
       "    <tr>\n",
       "      <th>25%</th>\n",
       "      <td>223.500000</td>\n",
       "      <td>0.000000</td>\n",
       "      <td>2.000000</td>\n",
       "      <td>22.000000</td>\n",
       "      <td>0.000000</td>\n",
       "      <td>0.000000</td>\n",
       "    </tr>\n",
       "    <tr>\n",
       "      <th>50%</th>\n",
       "      <td>446.000000</td>\n",
       "      <td>0.000000</td>\n",
       "      <td>3.000000</td>\n",
       "      <td>29.699118</td>\n",
       "      <td>0.000000</td>\n",
       "      <td>0.000000</td>\n",
       "    </tr>\n",
       "    <tr>\n",
       "      <th>75%</th>\n",
       "      <td>668.500000</td>\n",
       "      <td>1.000000</td>\n",
       "      <td>3.000000</td>\n",
       "      <td>35.000000</td>\n",
       "      <td>1.000000</td>\n",
       "      <td>0.000000</td>\n",
       "    </tr>\n",
       "    <tr>\n",
       "      <th>max</th>\n",
       "      <td>891.000000</td>\n",
       "      <td>1.000000</td>\n",
       "      <td>3.000000</td>\n",
       "      <td>80.000000</td>\n",
       "      <td>8.000000</td>\n",
       "      <td>6.000000</td>\n",
       "    </tr>\n",
       "  </tbody>\n",
       "</table>\n",
       "</div>"
      ],
      "text/plain": [
       "       PassengerId    Survived      Pclass         Age       SibSp       Parch\n",
       "count   891.000000  891.000000  891.000000  891.000000  891.000000  891.000000\n",
       "mean    446.000000    0.383838    2.308642   29.699118    0.523008    0.381594\n",
       "std     257.353842    0.486592    0.836071   13.002015    1.102743    0.806057\n",
       "min       1.000000    0.000000    1.000000    0.420000    0.000000    0.000000\n",
       "25%     223.500000    0.000000    2.000000   22.000000    0.000000    0.000000\n",
       "50%     446.000000    0.000000    3.000000   29.699118    0.000000    0.000000\n",
       "75%     668.500000    1.000000    3.000000   35.000000    1.000000    0.000000\n",
       "max     891.000000    1.000000    3.000000   80.000000    8.000000    6.000000"
      ]
     },
     "execution_count": 10,
     "metadata": {},
     "output_type": "execute_result"
    }
   ],
   "source": [
    "train_data.describe()"
   ]
  },
  {
   "cell_type": "code",
   "execution_count": 11,
   "id": "40b0cb69",
   "metadata": {
    "execution": {
     "iopub.execute_input": "2024-08-28T12:25:36.356273Z",
     "iopub.status.busy": "2024-08-28T12:25:36.355874Z",
     "iopub.status.idle": "2024-08-28T12:25:36.375080Z",
     "shell.execute_reply": "2024-08-28T12:25:36.373978Z"
    },
    "papermill": {
     "duration": 0.036425,
     "end_time": "2024-08-28T12:25:36.377644",
     "exception": false,
     "start_time": "2024-08-28T12:25:36.341219",
     "status": "completed"
    },
    "tags": []
   },
   "outputs": [
    {
     "name": "stdout",
     "output_type": "stream",
     "text": [
      "<class 'pandas.core.frame.DataFrame'>\n",
      "RangeIndex: 891 entries, 0 to 890\n",
      "Data columns (total 7 columns):\n",
      " #   Column       Non-Null Count  Dtype  \n",
      "---  ------       --------------  -----  \n",
      " 0   PassengerId  891 non-null    int64  \n",
      " 1   Survived     891 non-null    int64  \n",
      " 2   Pclass       891 non-null    int64  \n",
      " 3   Sex          891 non-null    object \n",
      " 4   Age          891 non-null    float64\n",
      " 5   SibSp        891 non-null    int64  \n",
      " 6   Parch        891 non-null    int64  \n",
      "dtypes: float64(1), int64(5), object(1)\n",
      "memory usage: 48.9+ KB\n"
     ]
    }
   ],
   "source": [
    "train_data.info()"
   ]
  },
  {
   "cell_type": "code",
   "execution_count": 12,
   "id": "37148260",
   "metadata": {
    "execution": {
     "iopub.execute_input": "2024-08-28T12:25:36.406689Z",
     "iopub.status.busy": "2024-08-28T12:25:36.405862Z",
     "iopub.status.idle": "2024-08-28T12:25:36.415179Z",
     "shell.execute_reply": "2024-08-28T12:25:36.414033Z"
    },
    "papermill": {
     "duration": 0.026488,
     "end_time": "2024-08-28T12:25:36.417542",
     "exception": false,
     "start_time": "2024-08-28T12:25:36.391054",
     "status": "completed"
    },
    "tags": []
   },
   "outputs": [
    {
     "name": "stderr",
     "output_type": "stream",
     "text": [
      "/tmp/ipykernel_17/2630419799.py:2: FutureWarning: Downcasting behavior in `replace` is deprecated and will be removed in a future version. To retain the old behavior, explicitly call `result.infer_objects(copy=False)`. To opt-in to the future behavior, set `pd.set_option('future.no_silent_downcasting', True)`\n",
      "  train_data['Sex']=train_data['Sex'].replace({'male':1,'female':0})\n"
     ]
    }
   ],
   "source": [
    "# train_data.Sex=pd.get_dummies(train_data.Sex)\n",
    "train_data['Sex']=train_data['Sex'].replace({'male':1,'female':0})\n",
    "test_data['Sex']=train_data['Sex'].replace({'male':1,'female':0})"
   ]
  },
  {
   "cell_type": "code",
   "execution_count": 13,
   "id": "c0162472",
   "metadata": {
    "execution": {
     "iopub.execute_input": "2024-08-28T12:25:36.446297Z",
     "iopub.status.busy": "2024-08-28T12:25:36.445894Z",
     "iopub.status.idle": "2024-08-28T12:25:36.462024Z",
     "shell.execute_reply": "2024-08-28T12:25:36.460799Z"
    },
    "papermill": {
     "duration": 0.033423,
     "end_time": "2024-08-28T12:25:36.464489",
     "exception": false,
     "start_time": "2024-08-28T12:25:36.431066",
     "status": "completed"
    },
    "tags": []
   },
   "outputs": [
    {
     "data": {
      "text/html": [
       "<div>\n",
       "<style scoped>\n",
       "    .dataframe tbody tr th:only-of-type {\n",
       "        vertical-align: middle;\n",
       "    }\n",
       "\n",
       "    .dataframe tbody tr th {\n",
       "        vertical-align: top;\n",
       "    }\n",
       "\n",
       "    .dataframe thead th {\n",
       "        text-align: right;\n",
       "    }\n",
       "</style>\n",
       "<table border=\"1\" class=\"dataframe\">\n",
       "  <thead>\n",
       "    <tr style=\"text-align: right;\">\n",
       "      <th></th>\n",
       "      <th>PassengerId</th>\n",
       "      <th>Survived</th>\n",
       "      <th>Pclass</th>\n",
       "      <th>Sex</th>\n",
       "      <th>Age</th>\n",
       "      <th>SibSp</th>\n",
       "      <th>Parch</th>\n",
       "    </tr>\n",
       "  </thead>\n",
       "  <tbody>\n",
       "    <tr>\n",
       "      <th>0</th>\n",
       "      <td>1</td>\n",
       "      <td>0</td>\n",
       "      <td>3</td>\n",
       "      <td>1</td>\n",
       "      <td>22.000000</td>\n",
       "      <td>1</td>\n",
       "      <td>0</td>\n",
       "    </tr>\n",
       "    <tr>\n",
       "      <th>1</th>\n",
       "      <td>2</td>\n",
       "      <td>1</td>\n",
       "      <td>1</td>\n",
       "      <td>0</td>\n",
       "      <td>38.000000</td>\n",
       "      <td>1</td>\n",
       "      <td>0</td>\n",
       "    </tr>\n",
       "    <tr>\n",
       "      <th>2</th>\n",
       "      <td>3</td>\n",
       "      <td>1</td>\n",
       "      <td>3</td>\n",
       "      <td>0</td>\n",
       "      <td>26.000000</td>\n",
       "      <td>0</td>\n",
       "      <td>0</td>\n",
       "    </tr>\n",
       "    <tr>\n",
       "      <th>3</th>\n",
       "      <td>4</td>\n",
       "      <td>1</td>\n",
       "      <td>1</td>\n",
       "      <td>0</td>\n",
       "      <td>35.000000</td>\n",
       "      <td>1</td>\n",
       "      <td>0</td>\n",
       "    </tr>\n",
       "    <tr>\n",
       "      <th>4</th>\n",
       "      <td>5</td>\n",
       "      <td>0</td>\n",
       "      <td>3</td>\n",
       "      <td>1</td>\n",
       "      <td>35.000000</td>\n",
       "      <td>0</td>\n",
       "      <td>0</td>\n",
       "    </tr>\n",
       "    <tr>\n",
       "      <th>...</th>\n",
       "      <td>...</td>\n",
       "      <td>...</td>\n",
       "      <td>...</td>\n",
       "      <td>...</td>\n",
       "      <td>...</td>\n",
       "      <td>...</td>\n",
       "      <td>...</td>\n",
       "    </tr>\n",
       "    <tr>\n",
       "      <th>886</th>\n",
       "      <td>887</td>\n",
       "      <td>0</td>\n",
       "      <td>2</td>\n",
       "      <td>1</td>\n",
       "      <td>27.000000</td>\n",
       "      <td>0</td>\n",
       "      <td>0</td>\n",
       "    </tr>\n",
       "    <tr>\n",
       "      <th>887</th>\n",
       "      <td>888</td>\n",
       "      <td>1</td>\n",
       "      <td>1</td>\n",
       "      <td>0</td>\n",
       "      <td>19.000000</td>\n",
       "      <td>0</td>\n",
       "      <td>0</td>\n",
       "    </tr>\n",
       "    <tr>\n",
       "      <th>888</th>\n",
       "      <td>889</td>\n",
       "      <td>0</td>\n",
       "      <td>3</td>\n",
       "      <td>0</td>\n",
       "      <td>29.699118</td>\n",
       "      <td>1</td>\n",
       "      <td>2</td>\n",
       "    </tr>\n",
       "    <tr>\n",
       "      <th>889</th>\n",
       "      <td>890</td>\n",
       "      <td>1</td>\n",
       "      <td>1</td>\n",
       "      <td>1</td>\n",
       "      <td>26.000000</td>\n",
       "      <td>0</td>\n",
       "      <td>0</td>\n",
       "    </tr>\n",
       "    <tr>\n",
       "      <th>890</th>\n",
       "      <td>891</td>\n",
       "      <td>0</td>\n",
       "      <td>3</td>\n",
       "      <td>1</td>\n",
       "      <td>32.000000</td>\n",
       "      <td>0</td>\n",
       "      <td>0</td>\n",
       "    </tr>\n",
       "  </tbody>\n",
       "</table>\n",
       "<p>891 rows × 7 columns</p>\n",
       "</div>"
      ],
      "text/plain": [
       "     PassengerId  Survived  Pclass  Sex        Age  SibSp  Parch\n",
       "0              1         0       3    1  22.000000      1      0\n",
       "1              2         1       1    0  38.000000      1      0\n",
       "2              3         1       3    0  26.000000      0      0\n",
       "3              4         1       1    0  35.000000      1      0\n",
       "4              5         0       3    1  35.000000      0      0\n",
       "..           ...       ...     ...  ...        ...    ...    ...\n",
       "886          887         0       2    1  27.000000      0      0\n",
       "887          888         1       1    0  19.000000      0      0\n",
       "888          889         0       3    0  29.699118      1      2\n",
       "889          890         1       1    1  26.000000      0      0\n",
       "890          891         0       3    1  32.000000      0      0\n",
       "\n",
       "[891 rows x 7 columns]"
      ]
     },
     "execution_count": 13,
     "metadata": {},
     "output_type": "execute_result"
    }
   ],
   "source": [
    "train_data"
   ]
  },
  {
   "cell_type": "code",
   "execution_count": 14,
   "id": "416c940e",
   "metadata": {
    "execution": {
     "iopub.execute_input": "2024-08-28T12:25:36.495731Z",
     "iopub.status.busy": "2024-08-28T12:25:36.494578Z",
     "iopub.status.idle": "2024-08-28T12:25:36.501173Z",
     "shell.execute_reply": "2024-08-28T12:25:36.500081Z"
    },
    "papermill": {
     "duration": 0.024847,
     "end_time": "2024-08-28T12:25:36.503649",
     "exception": false,
     "start_time": "2024-08-28T12:25:36.478802",
     "status": "completed"
    },
    "tags": []
   },
   "outputs": [],
   "source": [
    "X=train_data.drop(['Survived',\"PassengerId\"],axis=1)\n",
    "y=train_data.Survived"
   ]
  },
  {
   "cell_type": "code",
   "execution_count": 15,
   "id": "d96a63f4",
   "metadata": {
    "execution": {
     "iopub.execute_input": "2024-08-28T12:25:36.534317Z",
     "iopub.status.busy": "2024-08-28T12:25:36.533893Z",
     "iopub.status.idle": "2024-08-28T12:25:36.941076Z",
     "shell.execute_reply": "2024-08-28T12:25:36.939963Z"
    },
    "papermill": {
     "duration": 0.425563,
     "end_time": "2024-08-28T12:25:36.943411",
     "exception": false,
     "start_time": "2024-08-28T12:25:36.517848",
     "status": "completed"
    },
    "tags": []
   },
   "outputs": [
    {
     "data": {
      "image/png": "[encoded data removed]",
      "text/plain": [
       "<Figure size 640x480 with 2 Axes>"
      ]
     },
     "metadata": {},
     "output_type": "display_data"
    },
    {
     "data": {
      "text/html": [
       "<div>\n",
       "<style scoped>\n",
       "    .dataframe tbody tr th:only-of-type {\n",
       "        vertical-align: middle;\n",
       "    }\n",
       "\n",
       "    .dataframe tbody tr th {\n",
       "        vertical-align: top;\n",
       "    }\n",
       "\n",
       "    .dataframe thead th {\n",
       "        text-align: right;\n",
       "    }\n",
       "</style>\n",
       "<table border=\"1\" class=\"dataframe\">\n",
       "  <thead>\n",
       "    <tr style=\"text-align: right;\">\n",
       "      <th></th>\n",
       "      <th>Pclass</th>\n",
       "      <th>Sex</th>\n",
       "      <th>Age</th>\n",
       "      <th>SibSp</th>\n",
       "      <th>Parch</th>\n",
       "    </tr>\n",
       "  </thead>\n",
       "  <tbody>\n",
       "    <tr>\n",
       "      <th>Pclass</th>\n",
       "      <td>1.000000</td>\n",
       "      <td>0.131900</td>\n",
       "      <td>-0.331339</td>\n",
       "      <td>0.083081</td>\n",
       "      <td>0.018443</td>\n",
       "    </tr>\n",
       "    <tr>\n",
       "      <th>Sex</th>\n",
       "      <td>0.131900</td>\n",
       "      <td>1.000000</td>\n",
       "      <td>0.084153</td>\n",
       "      <td>-0.114631</td>\n",
       "      <td>-0.245489</td>\n",
       "    </tr>\n",
       "    <tr>\n",
       "      <th>Age</th>\n",
       "      <td>-0.331339</td>\n",
       "      <td>0.084153</td>\n",
       "      <td>1.000000</td>\n",
       "      <td>-0.232625</td>\n",
       "      <td>-0.179191</td>\n",
       "    </tr>\n",
       "    <tr>\n",
       "      <th>SibSp</th>\n",
       "      <td>0.083081</td>\n",
       "      <td>-0.114631</td>\n",
       "      <td>-0.232625</td>\n",
       "      <td>1.000000</td>\n",
       "      <td>0.414838</td>\n",
       "    </tr>\n",
       "    <tr>\n",
       "      <th>Parch</th>\n",
       "      <td>0.018443</td>\n",
       "      <td>-0.245489</td>\n",
       "      <td>-0.179191</td>\n",
       "      <td>0.414838</td>\n",
       "      <td>1.000000</td>\n",
       "    </tr>\n",
       "  </tbody>\n",
       "</table>\n",
       "</div>"
      ],
      "text/plain": [
       "          Pclass       Sex       Age     SibSp     Parch\n",
       "Pclass  1.000000  0.131900 -0.331339  0.083081  0.018443\n",
       "Sex     0.131900  1.000000  0.084153 -0.114631 -0.245489\n",
       "Age    -0.331339  0.084153  1.000000 -0.232625 -0.179191\n",
       "SibSp   0.083081 -0.114631 -0.232625  1.000000  0.414838\n",
       "Parch   0.018443 -0.245489 -0.179191  0.414838  1.000000"
      ]
     },
     "execution_count": 15,
     "metadata": {},
     "output_type": "execute_result"
    }
   ],
   "source": [
    "import seaborn as sns\n",
    "import matplotlib.pyplot as plt\n",
    "corr_matrix=X.corr()\n",
    "sns.heatmap(corr_matrix,annot=True)\n",
    "plt.show()\n",
    "corr_matrix"
   ]
  },
  {
   "cell_type": "code",
   "execution_count": 16,
   "id": "6dba33c6",
   "metadata": {
    "execution": {
     "iopub.execute_input": "2024-08-28T12:25:36.975853Z",
     "iopub.status.busy": "2024-08-28T12:25:36.975360Z",
     "iopub.status.idle": "2024-08-28T12:25:36.985356Z",
     "shell.execute_reply": "2024-08-28T12:25:36.984202Z"
    },
    "papermill": {
     "duration": 0.028981,
     "end_time": "2024-08-28T12:25:36.987872",
     "exception": false,
     "start_time": "2024-08-28T12:25:36.958891",
     "status": "completed"
    },
    "tags": []
   },
   "outputs": [],
   "source": [
    "from sklearn.model_selection import train_test_split\n",
    "\n",
    "X_train, X_test, y_train, y_test= train_test_split(X,y,test_size=0.20,random_state=42)"
   ]
  },
  {
   "cell_type": "code",
   "execution_count": 17,
   "id": "1b70ea4b",
   "metadata": {
    "execution": {
     "iopub.execute_input": "2024-08-28T12:25:37.019488Z",
     "iopub.status.busy": "2024-08-28T12:25:37.019076Z",
     "iopub.status.idle": "2024-08-28T12:25:37.024319Z",
     "shell.execute_reply": "2024-08-28T12:25:37.023191Z"
    },
    "papermill": {
     "duration": 0.023734,
     "end_time": "2024-08-28T12:25:37.026609",
     "exception": false,
     "start_time": "2024-08-28T12:25:37.002875",
     "status": "completed"
    },
    "tags": []
   },
   "outputs": [],
   "source": [
    "accuricess=[]"
   ]
  },
  {
   "cell_type": "code",
   "execution_count": 18,
   "id": "7d22f220",
   "metadata": {
    "execution": {
     "iopub.execute_input": "2024-08-28T12:25:37.058288Z",
     "iopub.status.busy": "2024-08-28T12:25:37.057574Z",
     "iopub.status.idle": "2024-08-28T12:25:37.071301Z",
     "shell.execute_reply": "2024-08-28T12:25:37.070053Z"
    },
    "papermill": {
     "duration": 0.032394,
     "end_time": "2024-08-28T12:25:37.073726",
     "exception": false,
     "start_time": "2024-08-28T12:25:37.041332",
     "status": "completed"
    },
    "tags": []
   },
   "outputs": [],
   "source": [
    "from sklearn.model_selection import GridSearchCV\n",
    "\n",
    "def all(model):\n",
    "    \n",
    "    if isinstance(model, LogisticRegression):\n",
    "        param_grid = {\n",
    "            'C': [0.1, 0,5, 0.75, 1, 10]\n",
    "        }\n",
    "    elif isinstance(model, RandomForestClassifier):\n",
    "        param_grid = {\n",
    "            'n_estimators': [50, 100],\n",
    "            'max_depth': [None, 10]\n",
    "        }\n",
    "    elif isinstance(model, GradientBoostingClassifier):\n",
    "        param_grid = {\n",
    "            'n_estimators': [100],\n",
    "            'learning_rate': [0.1],\n",
    "            'max_depth': [3]\n",
    "        }\n",
    "    elif isinstance(model, DecisionTreeClassifier):\n",
    "        param_grid = {\n",
    "            'criterion': ['gini', 'entropy'],\n",
    "            'max_depth': [None, 10]\n",
    "        }\n",
    "    elif isinstance(model, KNeighborsClassifier):\n",
    "        param_grid = {\n",
    "            'n_neighbors': [5],\n",
    "            'weights': ['uniform']\n",
    "        }\n",
    "    elif isinstance(model, GaussianNB):\n",
    "        param_grid = {}  \n",
    "    elif isinstance(model, SVC):\n",
    "        param_grid = {\n",
    "            'C': [1, 10],\n",
    "            'kernel': ['rbf']\n",
    "        }\n",
    "    else:\n",
    "        raise ValueError(\"Unsupported model type\")\n",
    "\n",
    "    \n",
    "    grid_search = GridSearchCV(model, param_grid, cv=3)  \n",
    "    grid_search.fit(X_train, y_train)\n",
    "    \n",
    "   \n",
    "    best_model = grid_search.best_estimator_\n",
    "    pre = best_model.predict(X_test)\n",
    "    \n",
    "    \n",
    "    accuracy = accuracy_score(pre, y_test)\n",
    "    print('Accuracy = ', accuracy)\n",
    "    accuricess.append(accuracy)\n",
    "    \n",
    "    \n",
    "    print('Best Parameters:', grid_search.best_params_)\n"
   ]
  },
  {
   "cell_type": "code",
   "execution_count": 19,
   "id": "358f3905",
   "metadata": {
    "execution": {
     "iopub.execute_input": "2024-08-28T12:25:37.105634Z",
     "iopub.status.busy": "2024-08-28T12:25:37.104824Z",
     "iopub.status.idle": "2024-08-28T12:25:37.410420Z",
     "shell.execute_reply": "2024-08-28T12:25:37.409082Z"
    },
    "papermill": {
     "duration": 0.324941,
     "end_time": "2024-08-28T12:25:37.413601",
     "exception": false,
     "start_time": "2024-08-28T12:25:37.088660",
     "status": "completed"
    },
    "tags": []
   },
   "outputs": [
    {
     "name": "stdout",
     "output_type": "stream",
     "text": [
      "Accuracy =  0.8324022346368715\n",
      "Best Parameters: {'C': 0.1}\n"
     ]
    },
    {
     "name": "stderr",
     "output_type": "stream",
     "text": [
      "/opt/conda/lib/python3.10/site-packages/sklearn/model_selection/_validation.py:378: FitFailedWarning: \n",
      "3 fits failed out of a total of 18.\n",
      "The score on these train-test partitions for these parameters will be set to nan.\n",
      "If these failures are not expected, you can try to debug them by setting error_score='raise'.\n",
      "\n",
      "Below are more details about the failures:\n",
      "--------------------------------------------------------------------------------\n",
      "3 fits failed with the following error:\n",
      "Traceback (most recent call last):\n",
      "  File \"/opt/conda/lib/python3.10/site-packages/sklearn/model_selection/_validation.py\", line 686, in _fit_and_score\n",
      "    estimator.fit(X_train, y_train, **fit_params)\n",
      "  File \"/opt/conda/lib/python3.10/site-packages/sklearn/linear_model/_logistic.py\", line 1160, in fit\n",
      "    self._validate_params()\n",
      "  File \"/opt/conda/lib/python3.10/site-packages/sklearn/base.py\", line 600, in _validate_params\n",
      "    validate_parameter_constraints(\n",
      "  File \"/opt/conda/lib/python3.10/site-packages/sklearn/utils/_param_validation.py\", line 97, in validate_parameter_constraints\n",
      "    raise InvalidParameterError(\n",
      "sklearn.utils._param_validation.InvalidParameterError: The 'C' parameter of LogisticRegression must be a float in the range (0, inf]. Got 0 instead.\n",
      "\n",
      "  warnings.warn(some_fits_failed_message, FitFailedWarning)\n",
      "/opt/conda/lib/python3.10/site-packages/sklearn/model_selection/_search.py:952: UserWarning: One or more of the test scores are non-finite: [0.79073148        nan 0.78931319 0.78791263 0.78650616 0.78931319]\n",
      "  warnings.warn(\n"
     ]
    }
   ],
   "source": [
    "model1=LogisticRegression()\n",
    "all(model1)"
   ]
  },
  {
   "cell_type": "code",
   "execution_count": 20,
   "id": "d67ecf9b",
   "metadata": {
    "execution": {
     "iopub.execute_input": "2024-08-28T12:25:37.445229Z",
     "iopub.status.busy": "2024-08-28T12:25:37.444797Z",
     "iopub.status.idle": "2024-08-28T12:25:39.980866Z",
     "shell.execute_reply": "2024-08-28T12:25:39.979391Z"
    },
    "papermill": {
     "duration": 2.555154,
     "end_time": "2024-08-28T12:25:39.983488",
     "exception": false,
     "start_time": "2024-08-28T12:25:37.428334",
     "status": "completed"
    },
    "tags": []
   },
   "outputs": [
    {
     "name": "stdout",
     "output_type": "stream",
     "text": [
      "Accuracy =  0.8268156424581006\n",
      "Best Parameters: {'max_depth': 10, 'n_estimators': 50}\n"
     ]
    }
   ],
   "source": [
    "model2=RandomForestClassifier()\n",
    "all(model2)"
   ]
  },
  {
   "cell_type": "code",
   "execution_count": 21,
   "id": "9ee597f8",
   "metadata": {
    "execution": {
     "iopub.execute_input": "2024-08-28T12:25:40.015727Z",
     "iopub.status.busy": "2024-08-28T12:25:40.015271Z",
     "iopub.status.idle": "2024-08-28T12:25:40.527937Z",
     "shell.execute_reply": "2024-08-28T12:25:40.526501Z"
    },
    "papermill": {
     "duration": 0.532111,
     "end_time": "2024-08-28T12:25:40.530506",
     "exception": false,
     "start_time": "2024-08-28T12:25:39.998395",
     "status": "completed"
    },
    "tags": []
   },
   "outputs": [
    {
     "name": "stdout",
     "output_type": "stream",
     "text": [
      "Accuracy =  0.8212290502793296\n",
      "Best Parameters: {'learning_rate': 0.1, 'max_depth': 3, 'n_estimators': 100}\n"
     ]
    }
   ],
   "source": [
    "model3=GradientBoostingClassifier()\n",
    "all(model3)"
   ]
  },
  {
   "cell_type": "code",
   "execution_count": 22,
   "id": "ba353c81",
   "metadata": {
    "execution": {
     "iopub.execute_input": "2024-08-28T12:25:40.563149Z",
     "iopub.status.busy": "2024-08-28T12:25:40.562421Z",
     "iopub.status.idle": "2024-08-28T12:25:40.644012Z",
     "shell.execute_reply": "2024-08-28T12:25:40.642698Z"
    },
    "papermill": {
     "duration": 0.100985,
     "end_time": "2024-08-28T12:25:40.646706",
     "exception": false,
     "start_time": "2024-08-28T12:25:40.545721",
     "status": "completed"
    },
    "tags": []
   },
   "outputs": [
    {
     "name": "stdout",
     "output_type": "stream",
     "text": [
      "Accuracy =  0.770949720670391\n",
      "Best Parameters: {'criterion': 'entropy', 'max_depth': 10}\n"
     ]
    }
   ],
   "source": [
    "model4=DecisionTreeClassifier()\n",
    "all(model4)"
   ]
  },
  {
   "cell_type": "code",
   "execution_count": 23,
   "id": "611f9693",
   "metadata": {
    "execution": {
     "iopub.execute_input": "2024-08-28T12:25:40.678866Z",
     "iopub.status.busy": "2024-08-28T12:25:40.678378Z",
     "iopub.status.idle": "2024-08-28T12:25:40.774419Z",
     "shell.execute_reply": "2024-08-28T12:25:40.772982Z"
    },
    "papermill": {
     "duration": 0.115266,
     "end_time": "2024-08-28T12:25:40.777147",
     "exception": false,
     "start_time": "2024-08-28T12:25:40.661881",
     "status": "completed"
    },
    "tags": []
   },
   "outputs": [
    {
     "name": "stdout",
     "output_type": "stream",
     "text": [
      "Accuracy =  0.776536312849162\n",
      "Best Parameters: {'n_neighbors': 5, 'weights': 'uniform'}\n"
     ]
    }
   ],
   "source": [
    "model5=KNeighborsClassifier()\n",
    "all(model5)"
   ]
  },
  {
   "cell_type": "code",
   "execution_count": 24,
   "id": "235d60f2",
   "metadata": {
    "execution": {
     "iopub.execute_input": "2024-08-28T12:25:40.809919Z",
     "iopub.status.busy": "2024-08-28T12:25:40.809131Z",
     "iopub.status.idle": "2024-08-28T12:25:40.838868Z",
     "shell.execute_reply": "2024-08-28T12:25:40.837827Z"
    },
    "papermill": {
     "duration": 0.048765,
     "end_time": "2024-08-28T12:25:40.841356",
     "exception": false,
     "start_time": "2024-08-28T12:25:40.792591",
     "status": "completed"
    },
    "tags": []
   },
   "outputs": [
    {
     "name": "stdout",
     "output_type": "stream",
     "text": [
      "Accuracy =  0.7597765363128491\n",
      "Best Parameters: {}\n"
     ]
    }
   ],
   "source": [
    "model6=GaussianNB()\n",
    "all(model6)"
   ]
  },
  {
   "cell_type": "code",
   "execution_count": 25,
   "id": "7427dad7",
   "metadata": {
    "execution": {
     "iopub.execute_input": "2024-08-28T12:25:40.874071Z",
     "iopub.status.busy": "2024-08-28T12:25:40.873144Z",
     "iopub.status.idle": "2024-08-28T12:25:41.007673Z",
     "shell.execute_reply": "2024-08-28T12:25:41.006423Z"
    },
    "papermill": {
     "duration": 0.153634,
     "end_time": "2024-08-28T12:25:41.010079",
     "exception": false,
     "start_time": "2024-08-28T12:25:40.856445",
     "status": "completed"
    },
    "tags": []
   },
   "outputs": [
    {
     "name": "stdout",
     "output_type": "stream",
     "text": [
      "Accuracy =  0.7932960893854749\n",
      "Best Parameters: {'C': 10, 'kernel': 'rbf'}\n"
     ]
    }
   ],
   "source": [
    "model7=SVC()\n",
    "all(model7)"
   ]
  },
  {
   "cell_type": "code",
   "execution_count": 26,
   "id": "aaedddac",
   "metadata": {
    "execution": {
     "iopub.execute_input": "2024-08-28T12:25:41.043592Z",
     "iopub.status.busy": "2024-08-28T12:25:41.042611Z",
     "iopub.status.idle": "2024-08-28T12:25:41.048048Z",
     "shell.execute_reply": "2024-08-28T12:25:41.046732Z"
    },
    "papermill": {
     "duration": 0.024812,
     "end_time": "2024-08-28T12:25:41.050492",
     "exception": false,
     "start_time": "2024-08-28T12:25:41.025680",
     "status": "completed"
    },
    "tags": []
   },
   "outputs": [],
   "source": [
    "Algorithms=['LogisticRegression','RandomForestClassifier','GradientBoostingClassifier',\n",
    "            'DecisionTreeClassifier','KNeighborsClassifier','GaussianNB','SVC']"
   ]
  },
  {
   "cell_type": "code",
   "execution_count": 27,
   "id": "1d095084",
   "metadata": {
    "execution": {
     "iopub.execute_input": "2024-08-28T12:25:41.083927Z",
     "iopub.status.busy": "2024-08-28T12:25:41.083151Z",
     "iopub.status.idle": "2024-08-28T12:25:41.095141Z",
     "shell.execute_reply": "2024-08-28T12:25:41.094104Z"
    },
    "papermill": {
     "duration": 0.031341,
     "end_time": "2024-08-28T12:25:41.097399",
     "exception": false,
     "start_time": "2024-08-28T12:25:41.066058",
     "status": "completed"
    },
    "tags": []
   },
   "outputs": [
    {
     "data": {
      "text/html": [
       "<div>\n",
       "<style scoped>\n",
       "    .dataframe tbody tr th:only-of-type {\n",
       "        vertical-align: middle;\n",
       "    }\n",
       "\n",
       "    .dataframe tbody tr th {\n",
       "        vertical-align: top;\n",
       "    }\n",
       "\n",
       "    .dataframe thead th {\n",
       "        text-align: right;\n",
       "    }\n",
       "</style>\n",
       "<table border=\"1\" class=\"dataframe\">\n",
       "  <thead>\n",
       "    <tr style=\"text-align: right;\">\n",
       "      <th></th>\n",
       "      <th>Algorithms</th>\n",
       "      <th>accuricess</th>\n",
       "    </tr>\n",
       "  </thead>\n",
       "  <tbody>\n",
       "    <tr>\n",
       "      <th>0</th>\n",
       "      <td>LogisticRegression</td>\n",
       "      <td>0.832402</td>\n",
       "    </tr>\n",
       "    <tr>\n",
       "      <th>1</th>\n",
       "      <td>RandomForestClassifier</td>\n",
       "      <td>0.826816</td>\n",
       "    </tr>\n",
       "    <tr>\n",
       "      <th>2</th>\n",
       "      <td>GradientBoostingClassifier</td>\n",
       "      <td>0.821229</td>\n",
       "    </tr>\n",
       "    <tr>\n",
       "      <th>3</th>\n",
       "      <td>DecisionTreeClassifier</td>\n",
       "      <td>0.770950</td>\n",
       "    </tr>\n",
       "    <tr>\n",
       "      <th>4</th>\n",
       "      <td>KNeighborsClassifier</td>\n",
       "      <td>0.776536</td>\n",
       "    </tr>\n",
       "    <tr>\n",
       "      <th>5</th>\n",
       "      <td>GaussianNB</td>\n",
       "      <td>0.759777</td>\n",
       "    </tr>\n",
       "    <tr>\n",
       "      <th>6</th>\n",
       "      <td>SVC</td>\n",
       "      <td>0.793296</td>\n",
       "    </tr>\n",
       "  </tbody>\n",
       "</table>\n",
       "</div>"
      ],
      "text/plain": [
       "                   Algorithms  accuricess\n",
       "0          LogisticRegression    0.832402\n",
       "1      RandomForestClassifier    0.826816\n",
       "2  GradientBoostingClassifier    0.821229\n",
       "3      DecisionTreeClassifier    0.770950\n",
       "4        KNeighborsClassifier    0.776536\n",
       "5                  GaussianNB    0.759777\n",
       "6                         SVC    0.793296"
      ]
     },
     "execution_count": 27,
     "metadata": {},
     "output_type": "execute_result"
    }
   ],
   "source": [
    "pd.DataFrame({'Algorithms':Algorithms ,'accuricess':accuricess})\n"
   ]
  },
  {
   "cell_type": "code",
   "execution_count": 28,
   "id": "e8012e8d",
   "metadata": {
    "execution": {
     "iopub.execute_input": "2024-08-28T12:25:41.131733Z",
     "iopub.status.busy": "2024-08-28T12:25:41.130670Z",
     "iopub.status.idle": "2024-08-28T12:25:41.137021Z",
     "shell.execute_reply": "2024-08-28T12:25:41.135813Z"
    },
    "papermill": {
     "duration": 0.026404,
     "end_time": "2024-08-28T12:25:41.139607",
     "exception": false,
     "start_time": "2024-08-28T12:25:41.113203",
     "status": "completed"
    },
    "tags": []
   },
   "outputs": [
    {
     "name": "stdout",
     "output_type": "stream",
     "text": [
      "7\n",
      "7\n"
     ]
    }
   ],
   "source": [
    "print(len(Algorithms))\n",
    "print(len(accuricess))"
   ]
  },
  {
   "cell_type": "code",
   "execution_count": 29,
   "id": "69cd31bd",
   "metadata": {
    "execution": {
     "iopub.execute_input": "2024-08-28T12:25:41.174525Z",
     "iopub.status.busy": "2024-08-28T12:25:41.173552Z",
     "iopub.status.idle": "2024-08-28T12:25:41.199120Z",
     "shell.execute_reply": "2024-08-28T12:25:41.198084Z"
    },
    "papermill": {
     "duration": 0.045405,
     "end_time": "2024-08-28T12:25:41.201585",
     "exception": false,
     "start_time": "2024-08-28T12:25:41.156180",
     "status": "completed"
    },
    "tags": []
   },
   "outputs": [
    {
     "data": {
      "text/html": [
       "<style>#sk-container-id-1 {color: black;background-color: white;}#sk-container-id-1 pre{padding: 0;}#sk-container-id-1 div.sk-toggleable {background-color: white;}#sk-container-id-1 label.sk-toggleable__label {cursor: pointer;display: block;width: 100%;margin-bottom: 0;padding: 0.3em;box-sizing: border-box;text-align: center;}#sk-container-id-1 label.sk-toggleable__label-arrow:before {content: \"▸\";float: left;margin-right: 0.25em;color: #696969;}#sk-container-id-1 label.sk-toggleable__label-arrow:hover:before {color: black;}#sk-container-id-1 div.sk-estimator:hover label.sk-toggleable__label-arrow:before {color: black;}#sk-container-id-1 div.sk-toggleable__content {max-height: 0;max-width: 0;overflow: hidden;text-align: left;background-color: #f0f8ff;}#sk-container-id-1 div.sk-toggleable__content pre {margin: 0.2em;color: black;border-radius: 0.25em;background-color: #f0f8ff;}#sk-container-id-1 input.sk-toggleable__control:checked~div.sk-toggleable__content {max-height: 200px;max-width: 100%;overflow: auto;}#sk-container-id-1 input.sk-toggleable__control:checked~label.sk-toggleable__label-arrow:before {content: \"▾\";}#sk-container-id-1 div.sk-estimator input.sk-toggleable__control:checked~label.sk-toggleable__label {background-color: #d4ebff;}#sk-container-id-1 div.sk-label input.sk-toggleable__control:checked~label.sk-toggleable__label {background-color: #d4ebff;}#sk-container-id-1 input.sk-hidden--visually {border: 0;clip: rect(1px 1px 1px 1px);clip: rect(1px, 1px, 1px, 1px);height: 1px;margin: -1px;overflow: hidden;padding: 0;position: absolute;width: 1px;}#sk-container-id-1 div.sk-estimator {font-family: monospace;background-color: #f0f8ff;border: 1px dotted black;border-radius: 0.25em;box-sizing: border-box;margin-bottom: 0.5em;}#sk-container-id-1 div.sk-estimator:hover {background-color: #d4ebff;}#sk-container-id-1 div.sk-parallel-item::after {content: \"\";width: 100%;border-bottom: 1px solid gray;flex-grow: 1;}#sk-container-id-1 div.sk-label:hover label.sk-toggleable__label {background-color: #d4ebff;}#sk-container-id-1 div.sk-serial::before {content: \"\";position: absolute;border-left: 1px solid gray;box-sizing: border-box;top: 0;bottom: 0;left: 50%;z-index: 0;}#sk-container-id-1 div.sk-serial {display: flex;flex-direction: column;align-items: center;background-color: white;padding-right: 0.2em;padding-left: 0.2em;position: relative;}#sk-container-id-1 div.sk-item {position: relative;z-index: 1;}#sk-container-id-1 div.sk-parallel {display: flex;align-items: stretch;justify-content: center;background-color: white;position: relative;}#sk-container-id-1 div.sk-item::before, #sk-container-id-1 div.sk-parallel-item::before {content: \"\";position: absolute;border-left: 1px solid gray;box-sizing: border-box;top: 0;bottom: 0;left: 50%;z-index: -1;}#sk-container-id-1 div.sk-parallel-item {display: flex;flex-direction: column;z-index: 1;position: relative;background-color: white;}#sk-container-id-1 div.sk-parallel-item:first-child::after {align-self: flex-end;width: 50%;}#sk-container-id-1 div.sk-parallel-item:last-child::after {align-self: flex-start;width: 50%;}#sk-container-id-1 div.sk-parallel-item:only-child::after {width: 0;}#sk-container-id-1 div.sk-dashed-wrapped {border: 1px dashed gray;margin: 0 0.4em 0.5em 0.4em;box-sizing: border-box;padding-bottom: 0.4em;background-color: white;}#sk-container-id-1 div.sk-label label {font-family: monospace;font-weight: bold;display: inline-block;line-height: 1.2em;}#sk-container-id-1 div.sk-label-container {text-align: center;}#sk-container-id-1 div.sk-container {/* jupyter's `normalize.less` sets `[hidden] { display: none; }` but bootstrap.min.css set `[hidden] { display: none !important; }` so we also need the `!important` here to be able to override the default hidden behavior on the sphinx rendered scikit-learn.org. See: https://github.com/scikit-learn/scikit-learn/issues/21755 */display: inline-block !important;position: relative;}#sk-container-id-1 div.sk-text-repr-fallback {display: none;}</style><div id=\"sk-container-id-1\" class=\"sk-top-container\"><div class=\"sk-text-repr-fallback\"><pre>LogisticRegression()</pre><b>In a Jupyter environment, please rerun this cell to show the HTML representation or trust the notebook. <br />On GitHub, the HTML representation is unable to render, please try loading this page with nbviewer.org.</b></div><div class=\"sk-container\" hidden><div class=\"sk-item\"><div class=\"sk-estimator sk-toggleable\"><input class=\"sk-toggleable__control sk-hidden--visually\" id=\"sk-estimator-id-1\" type=\"checkbox\" checked><label for=\"sk-estimator-id-1\" class=\"sk-toggleable__label sk-toggleable__label-arrow\">LogisticRegression</label><div class=\"sk-toggleable__content\"><pre>LogisticRegression()</pre></div></div></div></div></div>"
      ],
      "text/plain": [
       "LogisticRegression()"
      ]
     },
     "execution_count": 29,
     "metadata": {},
     "output_type": "execute_result"
    }
   ],
   "source": [
    "modelx=LogisticRegression()\n",
    "modelx.fit(X_train,y_train)"
   ]
  },
  {
   "cell_type": "code",
   "execution_count": 30,
   "id": "340fce16",
   "metadata": {
    "execution": {
     "iopub.execute_input": "2024-08-28T12:25:41.236099Z",
     "iopub.status.busy": "2024-08-28T12:25:41.235212Z",
     "iopub.status.idle": "2024-08-28T12:25:41.243414Z",
     "shell.execute_reply": "2024-08-28T12:25:41.242341Z"
    },
    "papermill": {
     "duration": 0.028006,
     "end_time": "2024-08-28T12:25:41.245842",
     "exception": false,
     "start_time": "2024-08-28T12:25:41.217836",
     "status": "completed"
    },
    "tags": []
   },
   "outputs": [],
   "source": [
    "test_data_new=test_data.drop([\"PassengerId\"],axis=1)\n",
    "Last_predict= modelx.predict(test_data_new)"
   ]
  },
  {
   "cell_type": "code",
   "execution_count": 31,
   "id": "8fb41ef4",
   "metadata": {
    "execution": {
     "iopub.execute_input": "2024-08-28T12:25:41.280569Z",
     "iopub.status.busy": "2024-08-28T12:25:41.279720Z",
     "iopub.status.idle": "2024-08-28T12:25:41.284759Z",
     "shell.execute_reply": "2024-08-28T12:25:41.283740Z"
    },
    "papermill": {
     "duration": 0.024704,
     "end_time": "2024-08-28T12:25:41.287034",
     "exception": false,
     "start_time": "2024-08-28T12:25:41.262330",
     "status": "completed"
    },
    "tags": []
   },
   "outputs": [],
   "source": [
    "Final=test_data.PassengerId"
   ]
  },
  {
   "cell_type": "code",
   "execution_count": 32,
   "id": "b048ef59",
   "metadata": {
    "execution": {
     "iopub.execute_input": "2024-08-28T12:25:41.321605Z",
     "iopub.status.busy": "2024-08-28T12:25:41.320669Z",
     "iopub.status.idle": "2024-08-28T12:25:41.332628Z",
     "shell.execute_reply": "2024-08-28T12:25:41.331600Z"
    },
    "papermill": {
     "duration": 0.031682,
     "end_time": "2024-08-28T12:25:41.334832",
     "exception": false,
     "start_time": "2024-08-28T12:25:41.303150",
     "status": "completed"
    },
    "tags": []
   },
   "outputs": [
    {
     "data": {
      "text/html": [
       "<div>\n",
       "<style scoped>\n",
       "    .dataframe tbody tr th:only-of-type {\n",
       "        vertical-align: middle;\n",
       "    }\n",
       "\n",
       "    .dataframe tbody tr th {\n",
       "        vertical-align: top;\n",
       "    }\n",
       "\n",
       "    .dataframe thead th {\n",
       "        text-align: right;\n",
       "    }\n",
       "</style>\n",
       "<table border=\"1\" class=\"dataframe\">\n",
       "  <thead>\n",
       "    <tr style=\"text-align: right;\">\n",
       "      <th></th>\n",
       "      <th>PassengerId</th>\n",
       "      <th>Survived</th>\n",
       "    </tr>\n",
       "  </thead>\n",
       "  <tbody>\n",
       "    <tr>\n",
       "      <th>0</th>\n",
       "      <td>892</td>\n",
       "      <td>0</td>\n",
       "    </tr>\n",
       "    <tr>\n",
       "      <th>1</th>\n",
       "      <td>893</td>\n",
       "      <td>0</td>\n",
       "    </tr>\n",
       "    <tr>\n",
       "      <th>2</th>\n",
       "      <td>894</td>\n",
       "      <td>1</td>\n",
       "    </tr>\n",
       "    <tr>\n",
       "      <th>3</th>\n",
       "      <td>895</td>\n",
       "      <td>1</td>\n",
       "    </tr>\n",
       "    <tr>\n",
       "      <th>4</th>\n",
       "      <td>896</td>\n",
       "      <td>0</td>\n",
       "    </tr>\n",
       "    <tr>\n",
       "      <th>...</th>\n",
       "      <td>...</td>\n",
       "      <td>...</td>\n",
       "    </tr>\n",
       "    <tr>\n",
       "      <th>413</th>\n",
       "      <td>1305</td>\n",
       "      <td>0</td>\n",
       "    </tr>\n",
       "    <tr>\n",
       "      <th>414</th>\n",
       "      <td>1306</td>\n",
       "      <td>0</td>\n",
       "    </tr>\n",
       "    <tr>\n",
       "      <th>415</th>\n",
       "      <td>1307</td>\n",
       "      <td>1</td>\n",
       "    </tr>\n",
       "    <tr>\n",
       "      <th>416</th>\n",
       "      <td>1308</td>\n",
       "      <td>1</td>\n",
       "    </tr>\n",
       "    <tr>\n",
       "      <th>417</th>\n",
       "      <td>1309</td>\n",
       "      <td>1</td>\n",
       "    </tr>\n",
       "  </tbody>\n",
       "</table>\n",
       "<p>418 rows × 2 columns</p>\n",
       "</div>"
      ],
      "text/plain": [
       "     PassengerId  Survived\n",
       "0            892         0\n",
       "1            893         0\n",
       "2            894         1\n",
       "3            895         1\n",
       "4            896         0\n",
       "..           ...       ...\n",
       "413         1305         0\n",
       "414         1306         0\n",
       "415         1307         1\n",
       "416         1308         1\n",
       "417         1309         1\n",
       "\n",
       "[418 rows x 2 columns]"
      ]
     },
     "execution_count": 32,
     "metadata": {},
     "output_type": "execute_result"
    }
   ],
   "source": [
    "df_new=pd.DataFrame({'PassengerId':Final,'Survived':Last_predict})\n",
    "df_new"
   ]
  },
  {
   "cell_type": "code",
   "execution_count": 33,
   "id": "2fd09e41",
   "metadata": {
    "execution": {
     "iopub.execute_input": "2024-08-28T12:25:41.370217Z",
     "iopub.status.busy": "2024-08-28T12:25:41.369221Z",
     "iopub.status.idle": "2024-08-28T12:25:41.378310Z",
     "shell.execute_reply": "2024-08-28T12:25:41.377249Z"
    },
    "papermill": {
     "duration": 0.029422,
     "end_time": "2024-08-28T12:25:41.380658",
     "exception": false,
     "start_time": "2024-08-28T12:25:41.351236",
     "status": "completed"
    },
    "tags": []
   },
   "outputs": [],
   "source": [
    "df_new.to_csv('submission.csv',index=False)"
   ]
  },
  {
   "cell_type": "code",
   "execution_count": null,
   "id": "b6b867b2",
   "metadata": {
    "papermill": {
     "duration": 0.016123,
     "end_time": "2024-08-28T12:25:41.413060",
     "exception": false,
     "start_time": "2024-08-28T12:25:41.396937",
     "status": "completed"
    },
    "tags": []
   },
   "outputs": [],
   "source": []
  },
  {
   "cell_type": "code",
   "execution_count": null,
   "id": "e3f3ef64",
   "metadata": {
    "papermill": {
     "duration": 0.016471,
     "end_time": "2024-08-28T12:25:41.445839",
     "exception": false,
     "start_time": "2024-08-28T12:25:41.429368",
     "status": "completed"
    },
    "tags": []
   },
   "outputs": [],
   "source": []
  }
 ],
 "metadata": {
  "kaggle": {
   "accelerator": "none",
   "dataSources": [
    {
     "databundleVersionId": 26502,
     "sourceId": 3136,
     "sourceType": "competition"
    }
   ],
   "dockerImageVersionId": 30761,
   "isGpuEnabled": false,
   "isInternetEnabled": true,
   "language": "python",
   "sourceType": "notebook"
  },
  "kernelspec": {
   "display_name": "Python 3",
   "language": "python",
   "name": "python3"
  },
  "language_info": {
   "codemirror_mode": {
    "name": "ipython",
    "version": 3
   },
   "file_extension": ".py",
   "mimetype": "text/x-python",
   "name": "python",
   "nbconvert_exporter": "python",
   "pygments_lexer": "ipython3",
   "version": "3.10.14"
  },
  "papermill": {
   "default_parameters": {},
   "duration": 11.843678,
   "end_time": "2024-08-28T12:25:42.083724",
   "environment_variables": {},
   "exception": null,
   "input_path": "__notebook__.ipynb",
   "output_path": "__notebook__.ipynb",
   "parameters": {},
   "start_time": "2024-08-28T12:25:30.240046",
   "version": "2.6.0"
  }
 },
 "nbformat": 4,
 "nbformat_minor": 5
}
